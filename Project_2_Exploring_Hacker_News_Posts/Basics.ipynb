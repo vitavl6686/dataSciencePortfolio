{
 "cells": [
  {
   "cell_type": "markdown",
   "metadata": {
    "collapsed": true
   },
   "source": [
    "# Hacker News posts analysis."
   ]
  },
  {
   "cell_type": "markdown",
   "metadata": {},
   "source": [
    "### Hacker News.\n",
    "\n",
    "The collection of different posts of IT theme and the community around them.\n",
    "Each user can create a post.\n",
    "Each post can be 'general' one, or 'ask' post when a user ask the community a question or a 'show' one when a user shows something to the community. \n",
    "\n",
    "Each post has a rating -> each post can be graded 'up' and 'down'. Rating is the total number of 'up' votes minus the total number of 'sown' votes."
   ]
  },
  {
   "cell_type": "markdown",
   "metadata": {},
   "source": [
    "### Goals of the project.\n",
    "\n",
    "1) Determine, if the posts starting with \"Ask HN\" (posts asking the communit a question) or \"Show HN\" (posts sharing a project, product, etc. with the community) receive more comments than others.\n",
    "\n",
    "2) Determine if posts published in a certain time collect more comments."
   ]
  },
  {
   "cell_type": "markdown",
   "metadata": {},
   "source": [
    "### Plan of work.\n",
    "\n",
    "0) The dataset we will be working is a random subset of the dataset of posts created at Hacker News for several years. \n",
    "1) Prepare dataset for work\n",
    "2) Find the difference between popularity of 'ask' and 'show' posts comparing to general ones based on the number of comments.\n",
    "3) Dind out if there is a difference between popularity of posts created at different times."
   ]
  },
  {
   "cell_type": "markdown",
   "metadata": {},
   "source": [
    "### Dataset description.\n",
    "\n",
    "<table>\n",
    "    <tr>\n",
    "        <th>Index</th>\n",
    "        <th>Name</th>\n",
    "        <th>Description</th>\n",
    "    </tr>\n",
    "    <tr>\n",
    "        <td>0</td>\n",
    "        <td>id</td>\n",
    "        <td>Unique identifier of the post on Hacker News</td>\n",
    "    </tr>\n",
    "    <tr>\n",
    "        <td>1</td>\n",
    "        <td>title</td>\n",
    "        <td>Title of the post</td>\n",
    "    </tr>\n",
    "     <tr>\n",
    "        <td>2</td>\n",
    "        <td>url</td>\n",
    "        <td>URL the post is linked to</td>\n",
    "    </tr>\n",
    "    <tr>\n",
    "        <td>3</td>\n",
    "        <td>num_points</td>\n",
    "        <td>The number of points of the post</td>\n",
    "    </tr>\n",
    "    <tr>\n",
    "        <td>4</td>\n",
    "        <td>num_comments</td>\n",
    "        <td>The number of comments under the post</td>\n",
    "    </tr>\n",
    "    <tr>\n",
    "        <td>5</td>\n",
    "        <td>author</td>\n",
    "        <td>The username of the author of the post</td>\n",
    "    </tr>\n",
    "    <tr>\n",
    "        <td>6</td>\n",
    "        <td>created_at</td>\n",
    "        <td>The date and time when the post was created</td>\n",
    "    </tr>\n",
    "\n",
    "</table>"
   ]
  },
  {
   "cell_type": "markdown",
   "metadata": {},
   "source": [
    "#### Pleparing the dataset."
   ]
  },
  {
   "cell_type": "code",
   "execution_count": 2,
   "metadata": {},
   "outputs": [
    {
     "name": "stdout",
     "output_type": "stream",
     "text": [
      "[['id', 'title', 'url', 'num_points', 'num_comments', 'author', 'created_at'], ['12224879', 'Interactive Dynamic Video', 'http://www.interactivedynamicvideo.com/', '386', '52', 'ne0phyte', '8/4/2016 11:52'], ['10975351', 'How to Use Open Source and Shut the Fuck Up at the Same Time', 'http://hueniverse.com/2016/01/26/how-to-use-open-source-and-shut-the-fuck-up-at-the-same-time/', '39', '10', 'josep2', '1/26/2016 19:30'], ['11964716', \"Florida DJs May Face Felony for April Fools' Water Joke\", 'http://www.thewire.com/entertainment/2013/04/florida-djs-april-fools-water-joke/63798/', '2', '1', 'vezycash', '6/23/2016 22:20'], ['11919867', 'Technology ventures: From Idea to Enterprise', 'https://www.amazon.com/Technology-Ventures-Enterprise-Thomas-Byers/dp/0073523429', '3', '1', 'hswarna', '6/17/2016 0:01']]\n"
     ]
    }
   ],
   "source": [
    "#Importing dataset and converting it to list.\n",
    "import csv\n",
    "\n",
    "hn = list(csv.reader(open(\"hacker_news.csv\")))\n",
    "print(hn[0:5])"
   ]
  },
  {
   "cell_type": "code",
   "execution_count": 3,
   "metadata": {},
   "outputs": [
    {
     "name": "stdout",
     "output_type": "stream",
     "text": [
      "Headers of the dataset:  ['id', 'title', 'url', 'num_points', 'num_comments', 'author', 'created_at']\n",
      "\n",
      "\n",
      "Typical row of the dataset:  ['12224879', 'Interactive Dynamic Video', 'http://www.interactivedynamicvideo.com/', '386', '52', 'ne0phyte', '8/4/2016 11:52']\n"
     ]
    }
   ],
   "source": [
    "#Removing the heading row.\n",
    "\n",
    "headers = hn[0] # headers of the dataset\n",
    "hn = hn[1:] # dataset for work\n",
    "\n",
    "print(\"Headers of the dataset: \", headers)\n",
    "print('\\n')\n",
    "print(\"Typical row of the dataset: \",hn[0])"
   ]
  },
  {
   "cell_type": "markdown",
   "metadata": {},
   "source": [
    "#### Filtering \"ask\" and \"show\" posts.\n",
    "\n",
    "In this part, we will filter \"ask\", \"show\" and all others posts in separate variables for future analysis. "
   ]
  },
  {
   "cell_type": "code",
   "execution_count": 4,
   "metadata": {},
   "outputs": [],
   "source": [
    "ask_posts = list()\n",
    "show_posts = list()\n",
    "other_posts = list()\n",
    "\n",
    "for post in hn:\n",
    "    title = post[1].lower() # to lowercase\n",
    "    if (title.startswith(\"ask hn\")):\n",
    "        ask_posts.append(post)\n",
    "    elif (title.startswith(\"show hn\")):\n",
    "        show_posts.append(post)\n",
    "    else:\n",
    "        other_posts.append(post)\n",
    "    "
   ]
  },
  {
   "cell_type": "code",
   "execution_count": 5,
   "metadata": {},
   "outputs": [
    {
     "name": "stdout",
     "output_type": "stream",
     "text": [
      "The number of 'ask' posts: 1744\n",
      "The number of 'show' posts: 1162\n",
      "The number of other posts: 17194\n"
     ]
    }
   ],
   "source": [
    "print(f\"The number of 'ask' posts: {len(ask_posts)}\")\n",
    "print(f\"The number of 'show' posts: {len(show_posts)}\")\n",
    "print(f\"The number of other posts: {len(other_posts)}\")"
   ]
  },
  {
   "cell_type": "markdown",
   "metadata": {},
   "source": [
    "#### Finding the average number of comments in posts of each section."
   ]
  },
  {
   "cell_type": "code",
   "execution_count": 6,
   "metadata": {},
   "outputs": [],
   "source": [
    "# Calculate the average number of comments under the posts\n",
    "# of the given subset of the dataset\n",
    "# Takes list the subset \n",
    "# Returns float the average number of comments\n",
    "\n",
    "def average_number_of_comments(data: list) -> float:\n",
    "    total_comments = 0\n",
    "    total_posts = len(data)\n",
    "    \n",
    "    for post in data:\n",
    "        total_comments += int(post[4])\n",
    "    average_comments = total_comments/total_posts\n",
    "    \n",
    "    return average_comments"
   ]
  },
  {
   "cell_type": "code",
   "execution_count": 8,
   "metadata": {},
   "outputs": [
    {
     "name": "stdout",
     "output_type": "stream",
     "text": [
      "The average number of comments under the 'ask' post is: 14.04\n"
     ]
    }
   ],
   "source": [
    "average_comments_ask = average_number_of_comments(ask_posts)\n",
    "print(f\"The average number of comments under the 'ask' post is: {round(average_comments_ask, 2)}\")"
   ]
  },
  {
   "cell_type": "code",
   "execution_count": 9,
   "metadata": {},
   "outputs": [
    {
     "name": "stdout",
     "output_type": "stream",
     "text": [
      "The average number of comments under the 'show' post is: 10.32\n"
     ]
    }
   ],
   "source": [
    "average_comments_show = average_number_of_comments(show_posts)\n",
    "print(f\"The average number of comments under the 'show' post is: {round(average_comments_show, 2)}\")"
   ]
  },
  {
   "cell_type": "code",
   "execution_count": 10,
   "metadata": {},
   "outputs": [
    {
     "name": "stdout",
     "output_type": "stream",
     "text": [
      "The average number of comments under the 'regular' post is: 26.87\n"
     ]
    }
   ],
   "source": [
    "average_comments_other = average_number_of_comments(other_posts)\n",
    "print(f\"The average number of comments under the 'regular' post is: {round(average_comments_other, 2)}\")"
   ]
  },
  {
   "cell_type": "markdown",
   "metadata": {},
   "source": [
    "#### Conslusion\n",
    "\n",
    "* Average number of comments under non-ask and non-show post is significantly higher. \n",
    "\n",
    "* The average number of comments under 'ask' posts is slightly higher that the number of comments under 'show' posts."
   ]
  },
  {
   "cell_type": "markdown",
   "metadata": {},
   "source": [
    "#### Finding the number of comments by hours when a post was created\n",
    "\n",
    "To make this research, we will use the whole dataset for more entries. \n",
    "We will look at the hour of creating of a post and the number of comments under it."
   ]
  },
  {
   "cell_type": "code",
   "execution_count": 16,
   "metadata": {},
   "outputs": [
    {
     "name": "stdout",
     "output_type": "stream",
     "text": [
      "There is an entry for each post of the dataset:  True\n",
      "Typical entry is:  ['6/23/2016 22:20', '1']\n"
     ]
    }
   ],
   "source": [
    "# Create a list of all date-number of comments information\n",
    "import datetime as dt\n",
    "\n",
    "time_comments_list = list() \n",
    "\n",
    "for row in hn:\n",
    "    time_comments_list.append([row[6], row[4]])\n",
    "\n",
    "print(\"There is an entry for each post of the dataset: \", len(time_comments_list) == len(hn))\n",
    "print(\"Typical entry is: \", time_comments_list[2])"
   ]
  },
  {
   "cell_type": "markdown",
   "metadata": {},
   "source": [
    "Create a map hour -> number of posts created at the hour\n",
    "\n",
    "Create a map hour -> total number of comments under the posts created at the hour"
   ]
  },
  {
   "cell_type": "code",
   "execution_count": 25,
   "metadata": {},
   "outputs": [],
   "source": [
    "counts_by_hour = dict() # The number of posts created at particular time\n",
    "comments_by_hour = dict() #The total number of comments under the posts created at particular time\n",
    "\n",
    "for entry in time_comments_list:\n",
    "    date_parsed = dt.datetime.strptime(entry[0], \"%m/%d/%Y %H:%M\")\n",
    "    hour = date_parsed.hour\n",
    "    \n",
    "    if hour not in counts_by_hour:\n",
    "        counts_by_hour[hour] = 1\n",
    "        comments_by_hour[hour] = int(entry[1])\n",
    "    else:\n",
    "        counts_by_hour[hour] += 1\n",
    "        comments_by_hour[hour] += int(entry[1])\n",
    "        \n",
    "# Correctness check\n",
    "# The number of entries of both dictionaries are the same:\n",
    "assert(len(counts_by_hour) == len(comments_by_hour))\n",
    "\n",
    "# The number of entries of both dictionaries <= 24\n",
    "assert(len(counts_by_hour) <= 24 )\n"
   ]
  },
  {
   "cell_type": "markdown",
   "metadata": {},
   "source": [
    "Creating a list of lists of the hour and average number of comments under a post created at that hour."
   ]
  },
  {
   "cell_type": "code",
   "execution_count": 31,
   "metadata": {},
   "outputs": [
    {
     "name": "stdout",
     "output_type": "stream",
     "text": [
      "[[27.12, 11], [24.36, 19], [21.35, 22], [25.08, 0], [21.89, 4], [25.08, 9], [23.7, 16], [25.19, 18], [29.14, 14], [24.52, 10], [27.47, 12], [27.73, 13], [22.28, 20], [23.82, 3], [25.54, 17], [21.2, 1], [22.6, 23], [24.33, 8], [26.02, 2], [21.99, 21], [29.02, 15], [19.77, 6], [24.76, 7], [22.72, 5]]\n"
     ]
    }
   ],
   "source": [
    "avg_by_hour = list()\n",
    "\n",
    "for hour in counts_by_hour:\n",
    "    comments = comments_by_hour[hour]\n",
    "    count = counts_by_hour[hour]\n",
    "    avg = round(comments/count, 2)\n",
    "    \n",
    "    avg_by_hour.append([avg, hour])\n",
    "\n",
    "print(avg_by_hour)"
   ]
  },
  {
   "cell_type": "code",
   "execution_count": 34,
   "metadata": {},
   "outputs": [],
   "source": [
    "sorted_avg = sorted(avg_by_hour, reverse = True)"
   ]
  },
  {
   "cell_type": "markdown",
   "metadata": {},
   "source": [
    "#### Conclusion"
   ]
  },
  {
   "cell_type": "code",
   "execution_count": 41,
   "metadata": {},
   "outputs": [
    {
     "name": "stdout",
     "output_type": "stream",
     "text": [
      "Top 7 hours for posting a post: \n",
      "\n",
      "14:00: 29.14 average comments per post\n",
      "15:00: 29.02 average comments per post\n",
      "13:00: 27.73 average comments per post\n",
      "12:00: 27.47 average comments per post\n",
      "11:00: 27.12 average comments per post\n",
      "2:00: 26.02 average comments per post\n",
      "17:00: 25.54 average comments per post\n"
     ]
    }
   ],
   "source": [
    "print(\"Top 7 hours for posting a post: \\n\")\n",
    "\n",
    "for entry in sorted_avg[:7]:\n",
    "    \n",
    "    print(\"{}:00: {} average comments per post\".format(entry[1], entry[0]))\n",
    "    "
   ]
  },
  {
   "cell_type": "markdown",
   "metadata": {},
   "source": [
    "There are only slight difference between the number of comments under the posts created at different time. In general, it is ruled by standard deviation. \n",
    "\n",
    "However, we provided the most 'successful' times above."
   ]
  },
  {
   "cell_type": "markdown",
   "metadata": {},
   "source": [
    "### General colclusion\n",
    "\n",
    "The research founf out that the 'ask' and 'show' posts on Hacker News are much less popular than general ones. \n",
    "Besides, I found out that there is only slight difference between the popularity of posts created at different times. \n",
    "\n",
    "This conclusion doesn't take into account the 'smart feed' which is now popular in different social media. "
   ]
  },
  {
   "cell_type": "code",
   "execution_count": null,
   "metadata": {},
   "outputs": [],
   "source": []
  }
 ],
 "metadata": {
  "kernelspec": {
   "display_name": "Python 3",
   "language": "python",
   "name": "python3"
  },
  "language_info": {
   "codemirror_mode": {
    "name": "ipython",
    "version": 3
   },
   "file_extension": ".py",
   "mimetype": "text/x-python",
   "name": "python",
   "nbconvert_exporter": "python",
   "pygments_lexer": "ipython3",
   "version": "3.8.2"
  }
 },
 "nbformat": 4,
 "nbformat_minor": 2
}
