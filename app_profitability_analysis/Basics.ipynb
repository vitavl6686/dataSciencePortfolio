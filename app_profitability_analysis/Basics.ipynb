{
 "cells": [
  {
   "cell_type": "markdown",
   "metadata": {},
   "source": [
    "# Determening the characteristics of profitable mobile apps."
   ]
  },
  {
   "cell_type": "markdown",
   "metadata": {},
   "source": [
    "This project aims to determine the profile of mobile applications leading to increasing the number of users.\n",
    "The results can be used in marketings purposes. \n",
    "\n",
    "Final goal is to find an app profile that will be potentially successful on both Google Play and App Store\n",
    "\n",
    "The method used for determination is analysis of statistical data from Google Play (approximately 10.000 applications) and App Store (approximately 7000 applications)"
   ]
  },
  {
   "cell_type": "markdown",
   "metadata": {},
   "source": [
    "## Introduction."
   ]
  },
  {
   "cell_type": "markdown",
   "metadata": {},
   "source": [
    "Our first step is to open files containing the datasets and extract dataset from them. "
   ]
  },
  {
   "cell_type": "code",
   "execution_count": 1,
   "metadata": {},
   "outputs": [],
   "source": [
    "from csv import reader"
   ]
  },
  {
   "cell_type": "code",
   "execution_count": 2,
   "metadata": {},
   "outputs": [],
   "source": [
    "# Extracting android data\n",
    "android_file_open = open('googleplaystore.csv')\n",
    "android_file_read = reader(android_file_open)\n",
    "android_dataset = list(android_file_read)"
   ]
  },
  {
   "cell_type": "code",
   "execution_count": 3,
   "metadata": {},
   "outputs": [],
   "source": [
    "#Extracting apple data\n",
    "apple_file_open = open('AppleStore.csv')\n",
    "apple_file_read = reader(apple_file_open)\n",
    "apple_dataset = list(apple_file_read)"
   ]
  },
  {
   "cell_type": "markdown",
   "metadata": {},
   "source": [
    "### Initial look at the datasets. Android."
   ]
  },
  {
   "cell_type": "markdown",
   "metadata": {},
   "source": [
    "In this section we want to have an initial took at the Android dataset to determine the structure of the data."
   ]
  },
  {
   "cell_type": "code",
   "execution_count": 4,
   "metadata": {},
   "outputs": [
    {
     "name": "stdout",
     "output_type": "stream",
     "text": [
      "The number of columns:  13\n"
     ]
    }
   ],
   "source": [
    "print(\"The number of columns: \", len(android_dataset[0]))"
   ]
  },
  {
   "cell_type": "code",
   "execution_count": 5,
   "metadata": {},
   "outputs": [
    {
     "name": "stdout",
     "output_type": "stream",
     "text": [
      "The dataset columns' names:  ['App', 'Category', 'Rating', 'Reviews', 'Size', 'Installs', 'Type', 'Price', 'Content Rating', 'Genres', 'Last Updated', 'Current Ver', 'Android Ver']\n"
     ]
    }
   ],
   "source": [
    "print(\"The dataset columns' names: \" , android_dataset[0])"
   ]
  },
  {
   "cell_type": "code",
   "execution_count": 6,
   "metadata": {
    "scrolled": true
   },
   "outputs": [
    {
     "name": "stdout",
     "output_type": "stream",
     "text": [
      "The number of entries:  10841\n"
     ]
    }
   ],
   "source": [
    "print(\"The number of entries: \", len(android_dataset) - 1) #the first row contains the columns' names"
   ]
  },
  {
   "cell_type": "code",
   "execution_count": 46,
   "metadata": {
    "scrolled": true
   },
   "outputs": [
    {
     "name": "stdout",
     "output_type": "stream",
     "text": [
      "Example of an entry:  ['stranger chat - anonymous chat', 'DATING', '3.5', '13202', '6.1M', '1,000,000+', 'Free', '0', 'Mature 17+', 'Dating', 'July 7, 2018', '2.4.1', '4.1 and up']\n"
     ]
    }
   ],
   "source": [
    "print(\"Example of an entry: \", android_dataset[500])"
   ]
  },
  {
   "cell_type": "markdown",
   "metadata": {},
   "source": [
    "### Initial look at the datasets. Apple."
   ]
  },
  {
   "cell_type": "markdown",
   "metadata": {},
   "source": [
    "In this section we will determine the structure of the Apple dataset."
   ]
  },
  {
   "cell_type": "code",
   "execution_count": 8,
   "metadata": {},
   "outputs": [
    {
     "name": "stdout",
     "output_type": "stream",
     "text": [
      "The number of columns:  16\n"
     ]
    }
   ],
   "source": [
    "print(\"The number of columns: \", len(apple_dataset[0]))"
   ]
  },
  {
   "cell_type": "code",
   "execution_count": 9,
   "metadata": {},
   "outputs": [
    {
     "name": "stdout",
     "output_type": "stream",
     "text": [
      "The dataset columns' names:  ['id', 'track_name', 'size_bytes', 'currency', 'price', 'rating_count_tot', 'rating_count_ver', 'user_rating', 'user_rating_ver', 'ver', 'cont_rating', 'prime_genre', 'sup_devices.num', 'ipadSc_urls.num', 'lang.num', 'vpp_lic']\n"
     ]
    }
   ],
   "source": [
    "print(\"The dataset columns' names: \" , apple_dataset[0])"
   ]
  },
  {
   "cell_type": "code",
   "execution_count": 10,
   "metadata": {},
   "outputs": [
    {
     "name": "stdout",
     "output_type": "stream",
     "text": [
      "The number of entries:  7197\n"
     ]
    }
   ],
   "source": [
    "print(\"The number of entries: \", len(apple_dataset) - 1) #the first row contains the columns' names"
   ]
  },
  {
   "cell_type": "code",
   "execution_count": 48,
   "metadata": {
    "scrolled": true
   },
   "outputs": [
    {
     "name": "stdout",
     "output_type": "stream",
     "text": [
      "Example of an entry:  ['284882215', 'Facebook', '389879808', 'USD', '0.0', '2974676', '212', '3.5', '3.5', '95.0', '4+', 'Social Networking', '37', '1', '29', '1']\n"
     ]
    }
   ],
   "source": [
    "print(\"Example of an entry: \", apple_dataset[1])"
   ]
  },
  {
   "cell_type": "markdown",
   "metadata": {},
   "source": [
    "## Data cleaning."
   ]
  },
  {
   "cell_type": "markdown",
   "metadata": {},
   "source": [
    "In this section we will prepare the data for analysis.\n",
    "Preparation will consist of:\n",
    "* Removing duplicates\n",
    "* Removing invalid entries\n",
    "* Removing non-free applications\n",
    "* Removing non-English apps."
   ]
  },
  {
   "cell_type": "markdown",
   "metadata": {},
   "source": [
    "### Removing duplicates"
   ]
  },
  {
   "cell_type": "markdown",
   "metadata": {},
   "source": [
    "Several entries for the same application may lead to statistical errors. So, we will check the datasets for duplicates and remove those. \n",
    "\n",
    "We start with the counting of the number of duplicates. We consider two entries *duplicates* if they represent the same application (both entries have the same application name)"
   ]
  },
  {
   "cell_type": "code",
   "execution_count": 12,
   "metadata": {},
   "outputs": [],
   "source": [
    "# Takes the dataset in a form of list and the index of the column that contains the name.\n",
    "# Returns the number of duplicates\n",
    "\n",
    "def number_of_duplicates(dataset: list, name_index: int) -> int:\n",
    "    uniques = set()\n",
    "    duplicates = 0\n",
    "    \n",
    "    for row in dataset[1:]:\n",
    "        app_name = row[name_index]\n",
    "        if  app_name in uniques:\n",
    "            duplicates += 1\n",
    "        else:\n",
    "            uniques.add(app_name)\n",
    "        \n",
    "    return duplicates"
   ]
  },
  {
   "cell_type": "markdown",
   "metadata": {},
   "source": [
    "#### Technique\n",
    "\n",
    "When we see the duplicate entries for one application, we would like to leave the entry with the maximum number of reviews because that's the newest one. \n",
    "To achieve that, we would create a dictionary called ```unique_entries``` the keys of which would be the unique names of the applications. Each value would be a diactionary of the number of reviews and the original row. \n",
    "\n",
    "We go through the dataset. When finding a duplicate of an entry for an application, we check if the number of reviews for in this entry larger than the saved one. If so, we update the saved data.\n",
    "However, if we encounter an entry for an app for the first time, we just save its data alongside the number of reviews to the unique_entries dictionary. \n",
    "\n",
    "At the end we go through the dictionary, adding all its entries to the list of unique elements. The cleaning from the duplicates is finished"
   ]
  },
  {
   "cell_type": "code",
   "execution_count": 13,
   "metadata": {},
   "outputs": [],
   "source": [
    "# Takes the dataset in a form of list,the index of the column that contains the name\n",
    "# and the index of the column that contains the number of reviews.\n",
    "# Returns the initial dataset without the duplicates. \n",
    "# The order of rows is not guaranteed.\n",
    "\n",
    "\n",
    "def remove_duplicates(dataset: list, name_index: int, reviews_number_index: int) -> list:\n",
    "    unique_entries = dict()\n",
    "\n",
    "    for i in range(1, len(dataset)):\n",
    "        if dataset[i][name_index] not in unique_entries:\n",
    "            unique_entries[dataset[i][name_index]] = {'reviews': dataset[i][reviews_number_index], 'data': dataset[i]}\n",
    "    else:\n",
    "        if unique_entries[dataset[i][name_index]]['reviews'] < dataset[i][reviews_number_index]:\n",
    "            unique_entries[dataset[i][name_index]] = {'reviews': dataset[i][reviews_number_index], 'data': dataset[i]}\n",
    "            \n",
    "    unique_list = list()\n",
    "    unique_list.append(dataset[0])\n",
    "\n",
    "    for app in unique_entries:\n",
    "        unique_list.append(unique_entries[app]['data'])\n",
    "        \n",
    "    return unique_list"
   ]
  },
  {
   "cell_type": "markdown",
   "metadata": {},
   "source": [
    "#### Android dataset "
   ]
  },
  {
   "cell_type": "markdown",
   "metadata": {},
   "source": [
    "Check how many duplicates the Android dataset contains."
   ]
  },
  {
   "cell_type": "code",
   "execution_count": 14,
   "metadata": {},
   "outputs": [
    {
     "name": "stdout",
     "output_type": "stream",
     "text": [
      "The number of duplicates in Android dataset is:  1181\n"
     ]
    }
   ],
   "source": [
    "duplicates = number_of_duplicates(android_dataset, 0)\n",
    "print('The number of duplicates in Android dataset is: ', duplicates)"
   ]
  },
  {
   "cell_type": "markdown",
   "metadata": {},
   "source": [
    "Remove the duplicates of the Android dataset.\n",
    "The name index is 0, the number of reviews column's index is 3."
   ]
  },
  {
   "cell_type": "code",
   "execution_count": 15,
   "metadata": {},
   "outputs": [],
   "source": [
    "unique_list_android = remove_duplicates(android_dataset, 0, 3)"
   ]
  },
  {
   "cell_type": "code",
   "execution_count": 16,
   "metadata": {},
   "outputs": [
    {
     "name": "stdout",
     "output_type": "stream",
     "text": [
      "The number of unique entries:  9660\n"
     ]
    }
   ],
   "source": [
    "# Number of unique items of the DS.\n",
    "resulting_length = len(unique_list_android) - 1\n",
    "print('The number of unique entries: ', resulting_length)\n"
   ]
  },
  {
   "cell_type": "markdown",
   "metadata": {},
   "source": [
    "#### Apple dataset"
   ]
  },
  {
   "cell_type": "markdown",
   "metadata": {},
   "source": [
    "Check if the Apple dataset contains duplicates. \n",
    "\n",
    "The two entries are duplicates if they have the same name of the applciation"
   ]
  },
  {
   "cell_type": "code",
   "execution_count": 17,
   "metadata": {},
   "outputs": [
    {
     "name": "stdout",
     "output_type": "stream",
     "text": [
      "The number of duplicates in Apple dataset is:  2\n"
     ]
    }
   ],
   "source": [
    "duplicates = number_of_duplicates(apple_dataset, 1)\n",
    "print('The number of duplicates in Apple dataset is: ', duplicates)"
   ]
  },
  {
   "cell_type": "markdown",
   "metadata": {},
   "source": [
    "We will use the same techniques of deleting duplicate rows for Apple dataset. \n",
    "The name column index is 1, the column index of the number of review is 5. \n"
   ]
  },
  {
   "cell_type": "code",
   "execution_count": 18,
   "metadata": {},
   "outputs": [],
   "source": [
    "unique_list_apple = remove_duplicates(apple_dataset, 1, 5)"
   ]
  },
  {
   "cell_type": "code",
   "execution_count": 19,
   "metadata": {},
   "outputs": [
    {
     "name": "stdout",
     "output_type": "stream",
     "text": [
      "The number of unique entries in Apple dataset:  7195\n"
     ]
    }
   ],
   "source": [
    "# Number of unique items of the Apple DS.\n",
    "resulting_length = len(unique_list_apple) - 1\n",
    "print('The number of unique entries in Apple dataset: ', resulting_length)"
   ]
  },
  {
   "cell_type": "markdown",
   "metadata": {},
   "source": [
    "### Removing incorrect values."
   ]
  },
  {
   "cell_type": "markdown",
   "metadata": {},
   "source": [
    "#### Rows with wrong number of cells."
   ]
  },
  {
   "cell_type": "markdown",
   "metadata": {},
   "source": [
    "The one example of invalid rows is the rows with wrong number of cells. \n",
    "Android dataset contains 13 columns and each rows must have 13 cells. \n",
    "Apple dataset contains 16 columns, so each row must have the length of 16"
   ]
  },
  {
   "cell_type": "markdown",
   "metadata": {},
   "source": [
    "In each dataset without duiplicates we check if each rows contains correct number of cells and remove invalid rows."
   ]
  },
  {
   "cell_type": "code",
   "execution_count": 20,
   "metadata": {},
   "outputs": [],
   "source": [
    "# Takes a dataset with heading row.\n",
    "# Returns a dataset without rows with incorrect number of cells.\n",
    "\n",
    "def check_rows_length(dataset: list) -> list:\n",
    "    correct_rows = list()\n",
    "    correct_rows.append(dataset[0])\n",
    "    \n",
    "    number_of_cols = len(dataset[0])\n",
    "    \n",
    "    for row in dataset[1:]:\n",
    "        if len(row) == number_of_cols:\n",
    "            correct_rows.append(row)\n",
    "    \n",
    "    return correct_rows"
   ]
  },
  {
   "cell_type": "code",
   "execution_count": 21,
   "metadata": {},
   "outputs": [],
   "source": [
    "# Android\n",
    "correct_rows_android = check_rows_length(unique_list_android)"
   ]
  },
  {
   "cell_type": "code",
   "execution_count": 22,
   "metadata": {},
   "outputs": [
    {
     "name": "stdout",
     "output_type": "stream",
     "text": [
      "The number of removes entries:  1\n"
     ]
    }
   ],
   "source": [
    "removed_rows = len(unique_list_android) - len(correct_rows_android)\n",
    "print('The number of removes entries: ', removed_rows)"
   ]
  },
  {
   "cell_type": "code",
   "execution_count": 23,
   "metadata": {},
   "outputs": [],
   "source": [
    "# Apple\n",
    "correct_rows_apple = check_rows_length(unique_list_apple)"
   ]
  },
  {
   "cell_type": "code",
   "execution_count": 24,
   "metadata": {},
   "outputs": [
    {
     "name": "stdout",
     "output_type": "stream",
     "text": [
      "The number of removes entries:  0\n"
     ]
    }
   ],
   "source": [
    "removed_rows = len(unique_list_apple) - len(correct_rows_apple)\n",
    "print('The number of removes entries: ', removed_rows)"
   ]
  },
  {
   "cell_type": "markdown",
   "metadata": {},
   "source": [
    "#### Removing non-English apps."
   ]
  },
  {
   "cell_type": "markdown",
   "metadata": {},
   "source": [
    "Our analysis is concerned with applications for English-speaking audience. So, we need to remove applications not designed for them. \n",
    "\n",
    "To do that, we will remove all applications that contain not-english, not punctuational and not-digits in its name."
   ]
  },
  {
   "cell_type": "markdown",
   "metadata": {},
   "source": [
    "We start with a function detecting if a name given is owned by a foreign app.\n",
    "It checks is the string contains more than three foreign symbols which could point to a foreign app."
   ]
  },
  {
   "cell_type": "code",
   "execution_count": 32,
   "metadata": {},
   "outputs": [],
   "source": [
    "def contains_foreign(text: str) -> bool:\n",
    "    count = 0\n",
    "    \n",
    "    for char in text:\n",
    "        if ord(char) > 127:\n",
    "            count += 1\n",
    "    \n",
    "    return count > 3"
   ]
  },
  {
   "cell_type": "code",
   "execution_count": 33,
   "metadata": {},
   "outputs": [],
   "source": [
    "def clear_foreign_names(dataset: list, name_column: int) -> list:\n",
    "    cleaned_dataset = list()\n",
    "    cleaned_dataset.append(dataset[0])\n",
    "    for row in dataset[1:]:\n",
    "        if not(contains_foreign(row[name_column])):\n",
    "            cleaned_dataset.append(row)\n",
    "    return cleaned_dataset"
   ]
  },
  {
   "cell_type": "markdown",
   "metadata": {},
   "source": [
    "#### Android.\n",
    "We will use these functions to clear the Android dataset from non-English apps."
   ]
  },
  {
   "cell_type": "code",
   "execution_count": 43,
   "metadata": {},
   "outputs": [],
   "source": [
    "final_android = clear_foreign_names(dataset = correct_rows_android, name_column = 0)"
   ]
  },
  {
   "cell_type": "markdown",
   "metadata": {},
   "source": [
    "The number of deleted rows is:"
   ]
  },
  {
   "cell_type": "code",
   "execution_count": 44,
   "metadata": {},
   "outputs": [
    {
     "name": "stdout",
     "output_type": "stream",
     "text": [
      "45\n"
     ]
    }
   ],
   "source": [
    "#number of deleted rows.\n",
    "print(len(correct_rows_android) - len(final_android))"
   ]
  },
  {
   "cell_type": "markdown",
   "metadata": {},
   "source": [
    "#### Apple.\n",
    "Now we use the same functions to clear the Apple dataset. The name of the app contains in the 1st column."
   ]
  },
  {
   "cell_type": "code",
   "execution_count": 41,
   "metadata": {},
   "outputs": [],
   "source": [
    "final_apple = clear_foreign_names(dataset = correct_rows_apple, name_column = 1)"
   ]
  },
  {
   "cell_type": "markdown",
   "metadata": {},
   "source": [
    "The number of deleted rows is:"
   ]
  },
  {
   "cell_type": "code",
   "execution_count": 42,
   "metadata": {},
   "outputs": [
    {
     "name": "stdout",
     "output_type": "stream",
     "text": [
      "1014\n"
     ]
    }
   ],
   "source": [
    "#number of deleted rows.\n",
    "print(len(correct_rows_apple) - len(final_apple))"
   ]
  },
  {
   "cell_type": "markdown",
   "metadata": {},
   "source": [
    "### Removing not-free apps.\n",
    "On this stage, we will remove non-free applications from the given datasets."
   ]
  },
  {
   "cell_type": "markdown",
   "metadata": {},
   "source": [
    "#### Android. \n",
    "\n",
    "In Android dataset, price colunm is the column number 7. When an app is free, it has a price of '0' in a form of a string.\n",
    "Using this information, I will check all rows in the dataset and add all appropriate to a new dataset called ```free_android```"
   ]
  },
  {
   "cell_type": "code",
   "execution_count": 53,
   "metadata": {},
   "outputs": [],
   "source": [
    "free_android = list()\n",
    "free_android.append(final_android[0])\n",
    "for row in final_android[1:]:\n",
    "    if row[7] == '0':\n",
    "        free_android.append(row)\n"
   ]
  },
  {
   "cell_type": "markdown",
   "metadata": {},
   "source": [
    "The number of free apps in ```Android dataset``` is:"
   ]
  },
  {
   "cell_type": "code",
   "execution_count": 52,
   "metadata": {},
   "outputs": [
    {
     "name": "stdout",
     "output_type": "stream",
     "text": [
      "8863\n"
     ]
    }
   ],
   "source": [
    "print(len(free_android))"
   ]
  },
  {
   "cell_type": "markdown",
   "metadata": {},
   "source": [
    "#### Apple\n",
    "Analogically, the Apple dataset has column number 4 as a column containing the price. Also, free apps in the dataset has a value of this column as '0.0.'\n",
    "I will conduct the same operations to fetch only free apps from the Apple dataset and consolidate them into ```free_apple``` dataset."
   ]
  },
  {
   "cell_type": "code",
   "execution_count": 54,
   "metadata": {},
   "outputs": [],
   "source": [
    "free_apple = list()\n",
    "free_apple.append(final_apple[0])\n",
    "for row in final_apple[1:]:\n",
    "    if row[4] == '0.0':\n",
    "        free_apple.append(row)\n"
   ]
  },
  {
   "cell_type": "markdown",
   "metadata": {},
   "source": [
    "The number of free apps in ```Apple dataset``` is:"
   ]
  },
  {
   "cell_type": "code",
   "execution_count": 55,
   "metadata": {},
   "outputs": [
    {
     "name": "stdout",
     "output_type": "stream",
     "text": [
      "3221\n"
     ]
    }
   ],
   "source": [
    "print(len(free_apple))"
   ]
  },
  {
   "cell_type": "markdown",
   "metadata": {},
   "source": [
    "## Data Analysis."
   ]
  },
  {
   "cell_type": "markdown",
   "metadata": {},
   "source": [
    "Since we are concerned of prediction of profitability for a potential app in both of the markets, we need to fild an app profile that leads to success of the application on both markets.\n"
   ]
  },
  {
   "cell_type": "markdown",
   "metadata": {},
   "source": [
    "### Genre analysis.\n",
    "Out first goal is to determine the genre of the application that has the highest rates on both Apple and Android markets. "
   ]
  },
  {
   "cell_type": "markdown",
   "metadata": {},
   "source": [
    "The next function works as a translator from a dataset to a frequency table based on the column with the given index."
   ]
  },
  {
   "cell_type": "code",
   "execution_count": 91,
   "metadata": {},
   "outputs": [],
   "source": [
    "def freq_table(dataset: list, index: int ) -> dict:\n",
    "    total_number = len(dataset) - 1 #the first row is amissed as it's the headings row\n",
    "    table = dict()\n",
    "    \n",
    "    for row in dataset[1:]:\n",
    "        if row[index] not in table:\n",
    "            table[row[index]] = 1\n",
    "        else:\n",
    "            table[row[index]] += 1\n",
    "            \n",
    "    for key in table:\n",
    "        table[key] = round(table[key]/total_number*100, 2)\n",
    "    return table\n"
   ]
  },
  {
   "cell_type": "markdown",
   "metadata": {},
   "source": [
    "The following function displays the frequency table for a given dataset and a column index in a human-readable sorted way"
   ]
  },
  {
   "cell_type": "code",
   "execution_count": 92,
   "metadata": {},
   "outputs": [],
   "source": [
    "def display_table(dataset, index):\n",
    "    table = freq_table(dataset, index)\n",
    "    table_display = []\n",
    "    for key in table:\n",
    "        key_val_as_tuple = (table[key], key)\n",
    "        table_display.append(key_val_as_tuple)\n",
    "\n",
    "    table_sorted = sorted(table_display, reverse = True)\n",
    "    for entry in table_sorted:\n",
    "        print(entry[1], ':', entry[0])"
   ]
  },
  {
   "cell_type": "markdown",
   "metadata": {},
   "source": [
    "#### Android frequency tables.\n",
    "\n",
    "We will base our genre analysis for Android on columns 'Genres' and 'Category'.\n",
    "Let's display frequency tables for them."
   ]
  },
  {
   "cell_type": "code",
   "execution_count": 93,
   "metadata": {},
   "outputs": [
    {
     "name": "stdout",
     "output_type": "stream",
     "text": [
      "FAMILY : 18.45\n",
      "GAME : 9.87\n",
      "TOOLS : 8.44\n",
      "BUSINESS : 4.59\n",
      "LIFESTYLE : 3.9\n",
      "PRODUCTIVITY : 3.89\n",
      "FINANCE : 3.7\n",
      "MEDICAL : 3.52\n",
      "SPORTS : 3.4\n",
      "PERSONALIZATION : 3.32\n",
      "COMMUNICATION : 3.24\n",
      "HEALTH_AND_FITNESS : 3.08\n",
      "PHOTOGRAPHY : 2.95\n",
      "NEWS_AND_MAGAZINES : 2.8\n",
      "SOCIAL : 2.66\n",
      "TRAVEL_AND_LOCAL : 2.34\n",
      "SHOPPING : 2.25\n",
      "BOOKS_AND_REFERENCE : 2.14\n",
      "DATING : 1.86\n",
      "VIDEO_PLAYERS : 1.78\n",
      "MAPS_AND_NAVIGATION : 1.4\n",
      "EDUCATION : 1.29\n",
      "FOOD_AND_DRINK : 1.24\n",
      "ENTERTAINMENT : 1.13\n",
      "LIBRARIES_AND_DEMO : 0.94\n",
      "AUTO_AND_VEHICLES : 0.93\n",
      "HOUSE_AND_HOME : 0.84\n",
      "WEATHER : 0.8\n",
      "EVENTS : 0.71\n",
      "ART_AND_DESIGN : 0.68\n",
      "PARENTING : 0.65\n",
      "COMICS : 0.62\n",
      "BEAUTY : 0.6\n"
     ]
    }
   ],
   "source": [
    "# The frequency table for the Category column.\n",
    "\n",
    "display_table(free_android, 1)"
   ]
  },
  {
   "cell_type": "code",
   "execution_count": 94,
   "metadata": {},
   "outputs": [
    {
     "name": "stdout",
     "output_type": "stream",
     "text": [
      "Tools : 8.43\n",
      "Entertainment : 6.07\n",
      "Education : 5.35\n",
      "Business : 4.59\n",
      "Productivity : 3.89\n",
      "Lifestyle : 3.89\n",
      "Finance : 3.7\n",
      "Medical : 3.52\n",
      "Sports : 3.46\n",
      "Personalization : 3.32\n",
      "Communication : 3.24\n",
      "Action : 3.1\n",
      "Health & Fitness : 3.08\n",
      "Photography : 2.95\n",
      "News & Magazines : 2.8\n",
      "Social : 2.66\n",
      "Travel & Local : 2.32\n",
      "Shopping : 2.25\n",
      "Books & Reference : 2.14\n",
      "Simulation : 2.04\n",
      "Dating : 1.86\n",
      "Arcade : 1.85\n",
      "Video Players & Editors : 1.77\n",
      "Casual : 1.76\n",
      "Maps & Navigation : 1.4\n",
      "Food & Drink : 1.24\n",
      "Puzzle : 1.13\n",
      "Racing : 0.99\n",
      "Role Playing : 0.94\n",
      "Libraries & Demo : 0.94\n",
      "Auto & Vehicles : 0.93\n",
      "Strategy : 0.91\n",
      "House & Home : 0.84\n",
      "Weather : 0.8\n",
      "Events : 0.71\n",
      "Adventure : 0.68\n",
      "Comics : 0.61\n",
      "Beauty : 0.6\n",
      "Art & Design : 0.6\n",
      "Parenting : 0.5\n",
      "Card : 0.45\n",
      "Casino : 0.43\n",
      "Trivia : 0.42\n",
      "Educational;Education : 0.39\n",
      "Educational : 0.37\n",
      "Board : 0.37\n",
      "Education;Education : 0.34\n",
      "Word : 0.26\n",
      "Casual;Pretend Play : 0.24\n",
      "Music : 0.2\n",
      "Racing;Action & Adventure : 0.17\n",
      "Puzzle;Brain Games : 0.17\n",
      "Entertainment;Music & Video : 0.17\n",
      "Casual;Brain Games : 0.14\n",
      "Casual;Action & Adventure : 0.14\n",
      "Arcade;Action & Adventure : 0.12\n",
      "Action;Action & Adventure : 0.1\n",
      "Educational;Pretend Play : 0.09\n",
      "Board;Brain Games : 0.09\n",
      "Simulation;Action & Adventure : 0.08\n",
      "Parenting;Education : 0.08\n",
      "Entertainment;Brain Games : 0.08\n",
      "Parenting;Music & Video : 0.07\n",
      "Educational;Brain Games : 0.07\n",
      "Casual;Creativity : 0.07\n",
      "Art & Design;Creativity : 0.07\n",
      "Education;Pretend Play : 0.06\n",
      "Role Playing;Pretend Play : 0.05\n",
      "Education;Creativity : 0.05\n",
      "Role Playing;Action & Adventure : 0.03\n",
      "Puzzle;Action & Adventure : 0.03\n",
      "Entertainment;Creativity : 0.03\n",
      "Entertainment;Action & Adventure : 0.03\n",
      "Educational;Creativity : 0.03\n",
      "Educational;Action & Adventure : 0.03\n",
      "Education;Music & Video : 0.03\n",
      "Education;Brain Games : 0.03\n",
      "Education;Action & Adventure : 0.03\n",
      "Adventure;Action & Adventure : 0.03\n",
      "Video Players & Editors;Music & Video : 0.02\n",
      "Sports;Action & Adventure : 0.02\n",
      "Simulation;Pretend Play : 0.02\n",
      "Puzzle;Creativity : 0.02\n",
      "Music;Music & Video : 0.02\n",
      "Entertainment;Pretend Play : 0.02\n",
      "Casual;Education : 0.02\n",
      "Board;Action & Adventure : 0.02\n",
      "Video Players & Editors;Creativity : 0.01\n",
      "Trivia;Education : 0.01\n",
      "Travel & Local;Action & Adventure : 0.01\n",
      "Tools;Education : 0.01\n",
      "Strategy;Education : 0.01\n",
      "Strategy;Creativity : 0.01\n",
      "Strategy;Action & Adventure : 0.01\n",
      "Simulation;Education : 0.01\n",
      "Role Playing;Brain Games : 0.01\n",
      "Racing;Pretend Play : 0.01\n",
      "Puzzle;Education : 0.01\n",
      "Parenting;Brain Games : 0.01\n",
      "Music & Audio;Music & Video : 0.01\n",
      "Lifestyle;Pretend Play : 0.01\n",
      "Lifestyle;Education : 0.01\n",
      "Health & Fitness;Education : 0.01\n",
      "Health & Fitness;Action & Adventure : 0.01\n",
      "Entertainment;Education : 0.01\n",
      "Communication;Creativity : 0.01\n",
      "Comics;Creativity : 0.01\n",
      "Casual;Music & Video : 0.01\n",
      "Card;Action & Adventure : 0.01\n",
      "Books & Reference;Education : 0.01\n",
      "Art & Design;Pretend Play : 0.01\n",
      "Art & Design;Action & Adventure : 0.01\n",
      "Arcade;Pretend Play : 0.01\n",
      "Adventure;Education : 0.01\n"
     ]
    }
   ],
   "source": [
    "# The frequency table for the Genres column.\n",
    "\n",
    "display_table(free_android, 9)"
   ]
  },
  {
   "cell_type": "markdown",
   "metadata": {},
   "source": [
    "#### Apple frequency table.\n",
    "\n",
    "We will base our genre analysis for Apple on the column \"prime_genre\".\n",
    "Its frequency table is the following"
   ]
  },
  {
   "cell_type": "code",
   "execution_count": 95,
   "metadata": {},
   "outputs": [
    {
     "name": "stdout",
     "output_type": "stream",
     "text": [
      "Games : 58.14\n",
      "Entertainment : 7.89\n",
      "Photo & Video : 4.97\n",
      "Education : 3.66\n",
      "Social Networking : 3.29\n",
      "Shopping : 2.61\n",
      "Utilities : 2.52\n",
      "Sports : 2.14\n",
      "Music : 2.05\n",
      "Health & Fitness : 2.02\n",
      "Productivity : 1.74\n",
      "Lifestyle : 1.58\n",
      "News : 1.34\n",
      "Travel : 1.24\n",
      "Finance : 1.12\n",
      "Weather : 0.87\n",
      "Food & Drink : 0.81\n",
      "Reference : 0.56\n",
      "Business : 0.53\n",
      "Book : 0.43\n",
      "Navigation : 0.19\n",
      "Medical : 0.19\n",
      "Catalogs : 0.12\n"
     ]
    }
   ],
   "source": [
    "display_table(free_apple, 11)"
   ]
  },
  {
   "cell_type": "markdown",
   "metadata": {},
   "source": [
    "The frequency tables we generated are only shows the number of  applications of each genres for both markets. \n",
    "However useful, they cannot on itself answer the question about their popularity. \n",
    "That's our next step."
   ]
  },
  {
   "cell_type": "markdown",
   "metadata": {},
   "source": [
    "### Most popular apps by genre on AppStore"
   ]
  },
  {
   "cell_type": "code",
   "execution_count": 105,
   "metadata": {},
   "outputs": [
    {
     "name": "stdout",
     "output_type": "stream",
     "text": [
      "Social Networking 71548.34905660378\n",
      "Photo & Video 28441.54375\n",
      "Games 22812.92467948718\n",
      "Music 57326.530303030304\n",
      "Reference 74942.11111111111\n",
      "Health & Fitness 23298.015384615384\n",
      "Weather 52279.892857142855\n",
      "Utilities 18684.456790123455\n",
      "Travel 28243.8\n",
      "Shopping 26919.690476190477\n",
      "News 21248.023255813954\n",
      "Navigation 86090.33333333333\n",
      "Lifestyle 16485.764705882353\n",
      "Entertainment 14029.830708661417\n",
      "Food & Drink 33333.92307692308\n",
      "Sports 23008.898550724636\n",
      "Book 39758.5\n",
      "Finance 31467.944444444445\n",
      "Education 7003.983050847458\n",
      "Productivity 21028.410714285714\n",
      "Business 7491.117647058823\n",
      "Catalogs 4004.0\n",
      "Medical 612.0\n"
     ]
    }
   ],
   "source": [
    "genre_freq_table_apple = freq_table(free_apple, 11) # 11 is the 'prime_genre' column\n",
    "\n",
    "for genre in genre_freq_table_apple:\n",
    "    total_reviews = 0\n",
    "    total_number = 0\n",
    "    for row in free_apple[1:]:\n",
    "        if row[11] == genre:\n",
    "            total_reviews += int(row[5]) #rating_count_tot column\n",
    "            total_number += 1\n",
    "    average = total_reviews / total_number\n",
    "    print(genre, average)\n"
   ]
  },
  {
   "cell_type": "markdown",
   "metadata": {},
   "source": [
    "According to this frequency table, the most popular applications are the applications for navigation and social networking. "
   ]
  },
  {
   "cell_type": "markdown",
   "metadata": {},
   "source": [
    "### Most popular apps by genre on PlayStore"
   ]
  },
  {
   "cell_type": "markdown",
   "metadata": {},
   "source": [
    "To construct the most popular app for Android we will use the number of intallations. \n"
   ]
  },
  {
   "cell_type": "code",
   "execution_count": 107,
   "metadata": {},
   "outputs": [
    {
     "name": "stdout",
     "output_type": "stream",
     "text": [
      "ART_AND_DESIGN 1905351.6666666667\n",
      "AUTO_AND_VEHICLES 647317.8170731707\n",
      "BEAUTY 513151.88679245283\n",
      "BOOKS_AND_REFERENCE 8767811.894736841\n",
      "BUSINESS 1712290.1474201474\n",
      "COMICS 817657.2727272727\n",
      "COMMUNICATION 38456119.167247385\n",
      "DATING 854028.8303030303\n",
      "EDUCATION 3082017.543859649\n",
      "ENTERTAINMENT 21134600.0\n",
      "EVENTS 253542.22222222222\n",
      "FINANCE 1387692.475609756\n",
      "FOOD_AND_DRINK 1924897.7363636363\n",
      "HEALTH_AND_FITNESS 4188821.9853479853\n",
      "HOUSE_AND_HOME 1313681.9054054054\n",
      "LIBRARIES_AND_DEMO 638503.734939759\n",
      "LIFESTYLE 1437816.2687861272\n",
      "GAME 15837565.085714286\n",
      "FAMILY 2691618.159021407\n",
      "MEDICAL 120616.48717948717\n",
      "SOCIAL 23253652.127118643\n",
      "SHOPPING 7036877.311557789\n",
      "PHOTOGRAPHY 17805627.643678162\n",
      "SPORTS 3638640.1428571427\n",
      "TRAVEL_AND_LOCAL 13984077.710144928\n",
      "TOOLS 10695245.286096256\n",
      "PERSONALIZATION 5201482.6122448975\n",
      "PRODUCTIVITY 16787331.344927534\n",
      "PARENTING 542603.6206896552\n",
      "WEATHER 5074486.197183099\n",
      "VIDEO_PLAYERS 24852732.40506329\n",
      "NEWS_AND_MAGAZINES 9549178.467741935\n",
      "MAPS_AND_NAVIGATION 4056941.7741935486\n"
     ]
    }
   ],
   "source": [
    "categories_freq_table_android = freq_table(free_android, 1) #categories column\n",
    "\n",
    "for category in categories_freq_table_android:\n",
    "    total_installations = 0\n",
    "    len_category = 0\n",
    "    \n",
    "    for row in free_android[1:]:\n",
    "        if row[1] == category:\n",
    "            installations = row[5].replace(',','')\n",
    "            installations = installations.replace('+','')\n",
    "            total_installations += int(installations)\n",
    "            len_category += 1\n",
    "    average = total_installations/len_category\n",
    "    \n",
    "    print(category, average)\n",
    "\n"
   ]
  },
  {
   "cell_type": "code",
   "execution_count": 108,
   "metadata": {},
   "outputs": [
    {
     "name": "stdout",
     "output_type": "stream",
     "text": [
      "Art & Design 2122850.9433962265\n",
      "Art & Design;Pretend Play 500000.0\n",
      "Art & Design;Creativity 285000.0\n",
      "Art & Design;Action & Adventure 100000.0\n",
      "Auto & Vehicles 647317.8170731707\n",
      "Beauty 513151.88679245283\n",
      "Books & Reference 8767811.894736841\n",
      "Business 1712290.1474201474\n",
      "Comics 831873.1481481482\n",
      "Comics;Creativity 50000.0\n",
      "Communication 38456119.167247385\n",
      "Dating 854028.8303030303\n",
      "Education;Education 4759517.0\n",
      "Education 540691.7721518987\n",
      "Education;Creativity 2875000.0\n",
      "Education;Music & Video 2033333.3333333333\n",
      "Education;Action & Adventure 1000000.0\n",
      "Education;Pretend Play 1800000.0\n",
      "Education;Brain Games 5333333.333333333\n",
      "Entertainment 5602792.775092937\n",
      "Entertainment;Music & Video 6413333.333333333\n",
      "Entertainment;Brain Games 3314285.714285714\n",
      "Entertainment;Creativity 4000000.0\n",
      "Events 253542.22222222222\n",
      "Finance 1387692.475609756\n",
      "Food & Drink 1924897.7363636363\n",
      "Health & Fitness 4188821.9853479853\n",
      "House & Home 1313681.9054054054\n",
      "Libraries & Demo 638503.734939759\n",
      "Lifestyle 1412998.3449275363\n",
      "Lifestyle;Pretend Play 10000000.0\n",
      "Adventure;Action & Adventure 35333333.333333336\n",
      "Arcade 22888365.48780488\n",
      "Casual 19569221.602564104\n",
      "Card 3815462.5\n",
      "Casual;Pretend Play 6957142.857142857\n",
      "Action 12603588.872727273\n",
      "Strategy 11199902.530864198\n",
      "Puzzle 8302861.91\n",
      "Sports 4596842.615635179\n",
      "Music 9445583.333333334\n",
      "Word 7355328.260869565\n",
      "Racing 15910645.681818182\n",
      "Casual;Creativity 5333333.333333333\n",
      "Casual;Action & Adventure 12916666.666666666\n",
      "Simulation 3475484.08839779\n",
      "Adventure 4922785.333333333\n",
      "Board 3388276.0606060605\n",
      "Trivia 3475712.7027027025\n",
      "Role Playing 3965645.421686747\n",
      "Action;Action & Adventure 5888888.888888889\n",
      "Casual;Brain Games 1425916.6666666667\n",
      "Simulation;Action & Adventure 4857142.857142857\n",
      "Educational;Creativity 2333333.3333333335\n",
      "Puzzle;Brain Games 9280666.666666666\n",
      "Educational;Education 1737143.142857143\n",
      "Educational;Brain Games 4433333.333333333\n",
      "Educational;Pretend Play 9375000.0\n",
      "Entertainment;Education 1000000.0\n",
      "Casual;Education 1000000.0\n",
      "Music;Music & Video 5050000.0\n",
      "Racing;Action & Adventure 8816666.666666666\n",
      "Arcade;Pretend Play 1000000.0\n",
      "Role Playing;Action & Adventure 7000000.0\n",
      "Simulation;Pretend Play 550000.0\n",
      "Puzzle;Creativity 750000.0\n",
      "Sports;Action & Adventure 5050000.0\n",
      "Educational;Action & Adventure 17016666.666666668\n",
      "Arcade;Action & Adventure 3190909.1818181816\n",
      "Entertainment;Action & Adventure 2333333.3333333335\n",
      "Puzzle;Action & Adventure 18366666.666666668\n",
      "Strategy;Action & Adventure 1000000.0\n",
      "Music & Audio;Music & Video 500000.0\n",
      "Health & Fitness;Education 100000.0\n",
      "Adventure;Education 10000000.0\n",
      "Board;Brain Games 981250.0\n",
      "Board;Action & Adventure 3000000.0\n",
      "Casual;Music & Video 10000000.0\n",
      "Role Playing;Pretend Play 5275000.0\n",
      "Entertainment;Pretend Play 3000000.0\n",
      "Video Players & Editors;Creativity 5000000.0\n",
      "Medical 120616.48717948717\n",
      "Social 23253652.127118643\n",
      "Shopping 7036877.311557789\n",
      "Photography 17805627.643678162\n",
      "Travel & Local 14051476.145631067\n",
      "Travel & Local;Action & Adventure 100000.0\n",
      "Tools 10696176.002677375\n",
      "Tools;Education 10000000.0\n",
      "Personalization 5201482.6122448975\n",
      "Productivity 16787331.344927534\n",
      "Parenting 467977.5\n",
      "Parenting;Music & Video 1118333.3333333333\n",
      "Parenting;Education 452857.14285714284\n",
      "Parenting;Brain Games 1000000.0\n",
      "Weather 5074486.197183099\n",
      "Video Players & Editors 24947335.796178345\n",
      "Video Players & Editors;Music & Video 7500000.0\n",
      "News & Magazines 9549178.467741935\n",
      "Maps & Navigation 4056941.7741935486\n",
      "Health & Fitness;Action & Adventure 1000000.0\n",
      "Educational 411184.8484848485\n",
      "Casino 3427910.5263157897\n",
      "Trivia;Education 100.0\n",
      "Lifestyle;Education 100000.0\n",
      "Card;Action & Adventure 10000000.0\n",
      "Books & Reference;Education 1000.0\n",
      "Simulation;Education 500.0\n",
      "Puzzle;Education 100000.0\n",
      "Role Playing;Brain Games 10000000.0\n",
      "Strategy;Education 500000.0\n",
      "Racing;Pretend Play 1000000.0\n",
      "Communication;Creativity 500000.0\n",
      "Strategy;Creativity 1000000.0\n"
     ]
    }
   ],
   "source": [
    "genre_freq_table_android = freq_table(free_android, 9) #categories column\n",
    "\n",
    "for genre in genre_freq_table_android:\n",
    "    total_installations = 0\n",
    "    len_genre = 0\n",
    "    \n",
    "    for row in free_android[1:]:\n",
    "        if row[9] == genre:\n",
    "            installations = row[5].replace(',','')\n",
    "            installations = installations.replace('+','')\n",
    "            total_installations += int(installations)\n",
    "            len_genre += 1\n",
    "    average = total_installations/len_genre\n",
    "    \n",
    "    print(genre, average)"
   ]
  },
  {
   "cell_type": "markdown",
   "metadata": {},
   "source": [
    "Based on the provided frequences alone, I can say that the most successful applications on Android are games and communication applications."
   ]
  },
  {
   "cell_type": "markdown",
   "metadata": {},
   "source": [
    "# Conclusion.\n",
    "\n",
    "Although we cannot make a fully-supported decision about the profile of a succesful application  based on our analysis, we can say that the most popular applications across both platforms are communication applications and games.\n",
    "That means that successful application can be a good quality spcial game connecting both of the aspects.\n",
    "\n",
    "That information can be used for future analysis."
   ]
  }
 ],
 "metadata": {
  "kernelspec": {
   "display_name": "Python 3",
   "language": "python",
   "name": "python3"
  },
  "language_info": {
   "codemirror_mode": {
    "name": "ipython",
    "version": 3
   },
   "file_extension": ".py",
   "mimetype": "text/x-python",
   "name": "python",
   "nbconvert_exporter": "python",
   "pygments_lexer": "ipython3",
   "version": "3.8.2"
  }
 },
 "nbformat": 4,
 "nbformat_minor": 2
}
